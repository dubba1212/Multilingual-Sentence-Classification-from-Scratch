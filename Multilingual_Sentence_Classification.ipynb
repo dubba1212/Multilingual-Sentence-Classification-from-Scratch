{
  "cells": [
    {
      "cell_type": "markdown",
      "metadata": {
        "id": "SgNZTjrhcHa0"
      },
      "source": [
        "## Multilingual Sentence Classification\n"
      ]
    },
    {
      "cell_type": "markdown",
      "metadata": {
        "id": "r2dYC4HbZL-j"
      },
      "source": [
        "# Data Collection and Annotation\n",
        "\n",
        "First we collected a labeled dataset of **150** sentences for a text classification task of your choice. This process will include:\n",
        "\n",
        "1. *Data collection*: Collect 150 sentences from any source you find interesting (e.g., literature, Tweets, news articles, reviews, etc.)\n",
        "\n",
        "2. *Task design*: Come up with a multilabel sentence-level classification task that you would like to perform on your sentences. \n",
        "\n",
        "3. On your dataset, collect annotations from **two** classmates for your task on a **second, separate set** of a minimum of **150** sentences. Everyone in this class will need to both create their own dataset and also serve as an annotator for two other classmates. In order to get everything done on time, you need to complete the following steps:\n",
        "\n",
        "> *   Find two classmates willing to label 150 sentences each.\n",
        "*   Collect the labeled data from each of the two annotators.\n",
        "*   Sanity check the data for basic cleanliness (are all examples annotated? are all labels allowable ones?)\n",
        "\n",
        "4. Aggregate output from both annotators to create final dataset (include your first 150 sentences too).\n",
        "\n",
        "5. Perform NLP experiments on your new dataset!"
      ]
    },
    {
      "cell_type": "markdown",
      "metadata": {
        "id": "4ltte0Z-vD0u"
      },
      "source": [
        "## Question 1.3:\n",
        "Now, compute the inter-annotator agreement between your two annotators. Upload both .tsv files to your Colab session (click the folder icon in the sidebar to the left of the screen). In the code cell below, read the data from the two files and compute both the raw agreement (% of examples for which both annotators agreed on the label) and the [Cohen's Kappa](https://en.wikipedia.org/wiki/Cohen%27s_kappa). Feel free to use implementations in existing libraries (e.g., [sklearn](https://scikit-learn.org/stable/modules/generated/sklearn.metrics.cohen_kappa_score.html)). After you’re done, report the raw agreement and Cohen’s scores in your report.\n",
        "\n",
        "*If you're curious, Cohen suggested the Kappa result be interpreted as follows: values ≤ 0 as indicating no agreement and 0.01–0.20 as none to slight, 0.21–0.40 as fair, 0.41– 0.60 as moderate, 0.61–0.80 as substantial, and 0.81–1.00 as almost perfect agreement.*"
      ]
    },
    {
      "cell_type": "code",
      "execution_count": 43,
      "metadata": {
        "colab": {
          "base_uri": "https://localhost:8080/"
        },
        "id": "fdjnq0TZ5d9C",
        "outputId": "dbdf885c-7fd9-4ba5-d9aa-9efe55307c44"
      },
      "outputs": [
        {
          "name": "stdout",
          "output_type": "stream",
          "text": [
            "Drive already mounted at /content/drive; to attempt to forcibly remount, call drive.mount(\"/content/drive\", force_remount=True).\n"
          ]
        }
      ],
      "source": [
        "from google.colab import drive\n",
        "drive.mount('/content/drive')"
      ]
    },
    {
      "cell_type": "code",
      "execution_count": 44,
      "metadata": {
        "id": "UmF8y0fH_J9W"
      },
      "outputs": [],
      "source": [
        "### WRITE CODE TO LOAD ANNOTATIONS AND \n",
        "### COMPUTE AGREEMENT + COHEN'S KAPPA HERE!\n",
        "import pandas as pd\n",
        "from sklearn.metrics import cohen_kappa_score"
      ]
    },
    {
      "cell_type": "code",
      "execution_count": 45,
      "metadata": {
        "id": "WhMI9nzBIiBd"
      },
      "outputs": [],
      "source": [
        "import pandas as pd\n",
        "data1=pd.read_csv(\"/content/drive/MyDrive/CS678-HW2/Annotator 1 - Sheet1 (1).tsv\", sep='\\t')[\"label_ID\"].tolist()\n",
        "data2=pd.read_csv(\"/content/drive/MyDrive/CS678-HW2/Annotator 2 - Sheet1 (1).tsv\", sep='\\t')[\"label_ID\"].tolist()"
      ]
    },
    {
      "cell_type": "code",
      "execution_count": 46,
      "metadata": {
        "colab": {
          "base_uri": "https://localhost:8080/"
        },
        "id": "uKigp8bKGSuR",
        "outputId": "66daeded-ae9b-4c0b-b3cd-4013564f9d0a"
      },
      "outputs": [
        {
          "name": "stdout",
          "output_type": "stream",
          "text": [
            "Raw Agreement:  0.6466666666666666\n"
          ]
        }
      ],
      "source": [
        "# Compute the raw agreement\n",
        "total_items = len(data1)\n",
        "total_agree = 0\n",
        "\n",
        "for i in range(total_items):\n",
        "    if data1[i] == data2[i]:\n",
        "        total_agree += 1\n",
        "\n",
        "raw_agreement = total_agree / total_items\n",
        "print(\"Raw Agreement: \", raw_agreement)"
      ]
    },
    {
      "cell_type": "code",
      "execution_count": 47,
      "metadata": {
        "colab": {
          "base_uri": "https://localhost:8080/"
        },
        "id": "UD7yvkwgy82S",
        "outputId": "a10b64e8-cc3b-490a-ab12-2386906913a0"
      },
      "outputs": [
        {
          "name": "stdout",
          "output_type": "stream",
          "text": [
            "Cohen's Kappa:  0.6210857442447929\n"
          ]
        }
      ],
      "source": [
        "# Compute Cohen's Kappa\n",
        "annotator1 = [data1[i] for i in range(len(data1))]\n",
        "annotator2 = [data2[i] for i in range(len(data2))]\n",
        "\n",
        "kappa = cohen_kappa_score(annotator1, annotator2)\n",
        "print(\"Cohen's Kappa: \", kappa)\n"
      ]
    },
    {
      "cell_type": "code",
      "execution_count": 48,
      "metadata": {
        "colab": {
          "base_uri": "https://localhost:8080/"
        },
        "id": "QH5azWY4-U3V",
        "outputId": "6a1d52a7-f15c-4975-a591-d194b90445b7"
      },
      "outputs": [
        {
          "data": {
            "text/plain": [
              "0.6210857442447929"
            ]
          },
          "execution_count": 48,
          "metadata": {},
          "output_type": "execute_result"
        }
      ],
      "source": [
        "cohen_kappa_score(annotator1,annotator2)"
      ]
    },
    {
      "cell_type": "markdown",
      "metadata": {
        "id": "Qd7Xq4SKzF5U"
      },
      "source": [
        "###*RAW AGREEMENT*: 0.6466666\n",
        "###*COHEN'S KAPPA*: 0.6210857"
      ]
    },
    {
      "cell_type": "markdown",
      "metadata": {
        "id": "d23zfO_ALKeB"
      },
      "source": [
        "# Model Training and Testing"
      ]
    },
    {
      "cell_type": "markdown",
      "metadata": {
        "id": "N25dvF4jvYoy"
      },
      "source": [
        "Now we'll move onto fine-tuning  pretrained language models specifically on your dataset. This part of the homework is meant to be an introduction to the HuggingFace library, and it contains code that will potentially be useful for your final projects. Since we're dealing with large models, the first step is to change to a GPU runtime.\n",
        "\n",
        "## Adding a hardware accelerator\n",
        "\n",
        "Please go to the menu and add a GPU as follows:\n",
        "\n",
        "`Edit > Notebook Settings > Hardware accelerator > (GPU)`\n",
        "\n",
        "Run the following cell to confirm that the GPU is detected."
      ]
    },
    {
      "cell_type": "code",
      "execution_count": 49,
      "metadata": {
        "colab": {
          "base_uri": "https://localhost:8080/"
        },
        "id": "edOh9ooiIW1B",
        "outputId": "2db5b974-c555-4c91-9c27-032c36e7cc55"
      },
      "outputs": [
        {
          "name": "stdout",
          "output_type": "stream",
          "text": [
            "Found device: Tesla T4, n_gpu: 1\n"
          ]
        }
      ],
      "source": [
        "import torch\n",
        "torch.cuda.empty_cache()\n",
        "\n",
        "# Confirm that the GPU is detected\n",
        "\n",
        "assert torch.cuda.is_available()\n",
        "\n",
        "# Get the GPU device name.\n",
        "device_name = torch.cuda.get_device_name()\n",
        "n_gpu = torch.cuda.device_count()\n",
        "print(f\"Found device: {device_name}, n_gpu: {n_gpu}\")\n",
        "device = torch.device(\"cuda\")"
      ]
    },
    {
      "cell_type": "markdown",
      "metadata": {
        "id": "xrvH7xx9LnMC"
      },
      "source": [
        "## Installing Hugging Face's Transformers library\n",
        "We will use Hugging Face's Transformers (https://github.com/huggingface/transformers), an open-source library that provides general-purpose architectures for natural language understanding and generation with a collection of various pretrained models made by the NLP community. This library will allow us to easily use pretrained models like `BERT` and perform experiments on top of them. We can use these models to solve downstream target tasks, such as text classification, question answering, and sequence labeling.\n",
        "\n",
        "Run the following cell to install Hugging Face's Transformers library and download a sample data file called seed.tsv that contains 250 sentences in English, annotated with their frame."
      ]
    },
    {
      "cell_type": "code",
      "execution_count": 50,
      "metadata": {
        "colab": {
          "base_uri": "https://localhost:8080/"
        },
        "id": "gtqS2e5fxpqa",
        "outputId": "db9ff8fa-0c4e-4cd8-daae-5b86f58f883d"
      },
      "outputs": [
        {
          "name": "stdout",
          "output_type": "stream",
          "text": [
            "Looking in indexes: https://pypi.org/simple, https://us-python.pkg.dev/colab-wheels/public/simple/\n",
            "Requirement already satisfied: transformers in /usr/local/lib/python3.9/dist-packages (4.26.1)\n",
            "Requirement already satisfied: regex!=2019.12.17 in /usr/local/lib/python3.9/dist-packages (from transformers) (2022.6.2)\n",
            "Requirement already satisfied: huggingface-hub<1.0,>=0.11.0 in /usr/local/lib/python3.9/dist-packages (from transformers) (0.13.2)\n",
            "Requirement already satisfied: tokenizers!=0.11.3,<0.14,>=0.11.1 in /usr/local/lib/python3.9/dist-packages (from transformers) (0.13.2)\n",
            "Requirement already satisfied: numpy>=1.17 in /usr/local/lib/python3.9/dist-packages (from transformers) (1.22.4)\n",
            "Requirement already satisfied: packaging>=20.0 in /usr/local/lib/python3.9/dist-packages (from transformers) (23.0)\n",
            "Requirement already satisfied: requests in /usr/local/lib/python3.9/dist-packages (from transformers) (2.25.1)\n",
            "Requirement already satisfied: filelock in /usr/local/lib/python3.9/dist-packages (from transformers) (3.9.0)\n",
            "Requirement already satisfied: pyyaml>=5.1 in /usr/local/lib/python3.9/dist-packages (from transformers) (6.0)\n",
            "Requirement already satisfied: tqdm>=4.27 in /usr/local/lib/python3.9/dist-packages (from transformers) (4.65.0)\n",
            "Requirement already satisfied: typing-extensions>=3.7.4.3 in /usr/local/lib/python3.9/dist-packages (from huggingface-hub<1.0,>=0.11.0->transformers) (4.5.0)\n",
            "Requirement already satisfied: idna<3,>=2.5 in /usr/local/lib/python3.9/dist-packages (from requests->transformers) (2.10)\n",
            "Requirement already satisfied: urllib3<1.27,>=1.21.1 in /usr/local/lib/python3.9/dist-packages (from requests->transformers) (1.26.15)\n",
            "Requirement already satisfied: certifi>=2017.4.17 in /usr/local/lib/python3.9/dist-packages (from requests->transformers) (2022.12.7)\n",
            "Requirement already satisfied: chardet<5,>=3.0.2 in /usr/local/lib/python3.9/dist-packages (from requests->transformers) (4.0.0)\n"
          ]
        }
      ],
      "source": [
        "!pip install transformers\n",
        "!pip install -U -q PyDrive"
      ]
    },
    {
      "cell_type": "markdown",
      "metadata": {
        "id": "-8XIL7wPovVX"
      },
      "source": [
        "The cell below imports some helper functions we wrote to demonstrate the task on the sample seed dataset."
      ]
    },
    {
      "cell_type": "code",
      "execution_count": 51,
      "metadata": {
        "id": "Taseb33Sovg0"
      },
      "outputs": [],
      "source": [
        "from helpers import tokenize_and_format, flat_accuracy"
      ]
    },
    {
      "cell_type": "markdown",
      "metadata": {
        "id": "gKc0xYh-MAbc"
      },
      "source": [
        "# Data Prep and Model Specifications\n",
        "\n",
        "Upload your data using the file explorer to the left. We have provided a function below to tokenize and format your data as BERT requires. Make sure that your tsv file, titled final_data.tsv, has one column \"sentence\" and another column \"labels_ID\" containing integers/float.\n",
        "\n",
        "If you run the cell below without modifications, it will run on the seed.tsv example data we have provided. It imports some helper functions we wrote to demonstrate the task on the sample dataset. You should first run all of the following cells with seed.tsv just to see how everything works. Then, once you understand the whole preprocessing / fine-tuning process, change the tsv in the below cell to your final_data.tsv file, add any extra preprocessing code you wish, and then run the cells again on your own data."
      ]
    },
    {
      "cell_type": "code",
      "execution_count": 52,
      "metadata": {
        "colab": {
          "base_uri": "https://localhost:8080/"
        },
        "id": "YGhkeLQlNNr8",
        "outputId": "c251e4cb-45fb-4fa1-8b83-37c846869d99"
      },
      "outputs": [
        {
          "name": "stdout",
          "output_type": "stream",
          "text": [
            "Original:  To address the challenges of illegal immigration, we must adopt policies that provide a pathway to citizenship for undocumented immigrants, while strengthening our border security and improving our visa system.\n",
            "Token IDs: tensor([  101,  2000,  4769,  1996,  7860,  1997,  6206,  7521,  1010,  2057,\n",
            "         2442, 11092,  6043,  2008,  3073,  1037, 12732,  2000,  9068,  2005,\n",
            "        25672, 24894, 14088,  7489,  1010,  2096, 16003,  2256,  3675,  3036,\n",
            "         1998,  9229,  2256,  9425,  2291,  1012,   102,     0,     0,     0,\n",
            "            0,     0,     0,     0,     0,     0,     0,     0,     0,     0,\n",
            "            0,     0,     0,     0,     0,     0,     0,     0,     0,     0,\n",
            "            0,     0,     0,     0])\n"
          ]
        }
      ],
      "source": [
        "from helpers import tokenize_and_format, flat_accuracy\n",
        "import pandas as pd\n",
        "import numpy as np\n",
        "\n",
        "df = pd.read_csv('/content/final_data .tsv',sep='\\t')\n",
        "df = df.dropna()\n",
        "\n",
        "df = df.sample(frac=1).reset_index(drop=True)\n",
        "\n",
        "texts = df.sentence.values\n",
        "labels = df.label_ID.values\n",
        "### tokenize_and_format() is a helper function provided in helpers.py ###\n",
        "input_ids, attention_masks = tokenize_and_format(texts)\n",
        "label_list = []\n",
        "for l in labels:\n",
        "  label_array = np.zeros(len(set(labels)))\n",
        "  label_array[int(l)-1] = 1\n",
        "  label_list.append(label_array)\n",
        "\n",
        "# Convert the lists into tensors.\n",
        "input_ids = torch.cat(input_ids, dim=0)\n",
        "attention_masks = torch.cat(attention_masks, dim=0)\n",
        "labels = torch.tensor(np.array(label_list))\n",
        "\n",
        "# Print sentence 0, now as a list of IDs.\n",
        "print('Original: ', texts[0])\n",
        "print('Token IDs:', input_ids[0])"
      ]
    },
    {
      "cell_type": "markdown",
      "metadata": {
        "id": "H3D-CzQEUXYz"
      },
      "source": [
        "## Create train/test/validation splits\n",
        "\n",
        "Here we split your dataset into 3 parts: a training set, a validation set, and a testing set. Each item in your dataset will be a 3-tuple containing an input_id tensor, an attention_mask tensor, and a label tensor.\n",
        "\n"
      ]
    },
    {
      "cell_type": "code",
      "execution_count": 64,
      "metadata": {
        "id": "kGgeZ3M0UWs0"
      },
      "outputs": [],
      "source": [
        "total = len(df)\n",
        "\n",
        "num_train = int(total * .8)\n",
        "num_val = int(total * .1)\n",
        "num_test = total - num_train - num_val\n",
        "\n",
        "# make lists of 3-tuples (already shuffled the dataframe in cell above)\n",
        "\n",
        "train_set = [(input_ids[i], attention_masks[i], labels[i]) for i in range(num_train)]\n",
        "val_set = [(input_ids[i], attention_masks[i], labels[i]) for i in range(num_train, num_val+num_train)]\n",
        "test_set = [(input_ids[i], attention_masks[i], labels[i]) for i in range(num_val + num_train, total)]\n",
        "\n",
        "train_text = [texts[i] for i in range(num_train)]\n",
        "val_text = [texts[i] for i in range(num_train, num_val+num_train)]\n",
        "test_text = [texts[i] for i in range(num_val + num_train, total)]\n"
      ]
    },
    {
      "cell_type": "markdown",
      "metadata": {
        "id": "QCr006iTkqwM"
      },
      "source": [
        "Here we choose the model we want to finetune from https://huggingface.co/transformers/pretrained_models.html. Because the task requires us to label sentences, we wil be using BertForSequenceClassification below. You may see a warning that states that `some weights of the model checkpoint at [model name] were not used when initializing. . .` This warning is expected and means that you should fine-tune your pre-trained model before using it on your downstream task. See [here](https://github.com/huggingface/transformers/issues/5421#issuecomment-652582854) for more info."
      ]
    },
    {
      "cell_type": "code",
      "execution_count": 65,
      "metadata": {
        "colab": {
          "base_uri": "https://localhost:8080/"
        },
        "id": "lPo640_ZlEPK",
        "outputId": "21db8647-6157-48e2-b527-642e9d508693"
      },
      "outputs": [
        {
          "name": "stderr",
          "output_type": "stream",
          "text": [
            "Some weights of the model checkpoint at bert-base-uncased were not used when initializing BertForSequenceClassification: ['cls.predictions.transform.LayerNorm.bias', 'cls.seq_relationship.weight', 'cls.predictions.transform.dense.bias', 'cls.seq_relationship.bias', 'cls.predictions.decoder.weight', 'cls.predictions.bias', 'cls.predictions.transform.LayerNorm.weight', 'cls.predictions.transform.dense.weight']\n",
            "- This IS expected if you are initializing BertForSequenceClassification from the checkpoint of a model trained on another task or with another architecture (e.g. initializing a BertForSequenceClassification model from a BertForPreTraining model).\n",
            "- This IS NOT expected if you are initializing BertForSequenceClassification from the checkpoint of a model that you expect to be exactly identical (initializing a BertForSequenceClassification model from a BertForSequenceClassification model).\n",
            "Some weights of BertForSequenceClassification were not initialized from the model checkpoint at bert-base-uncased and are newly initialized: ['classifier.weight', 'classifier.bias']\n",
            "You should probably TRAIN this model on a down-stream task to be able to use it for predictions and inference.\n"
          ]
        },
        {
          "data": {
            "text/plain": [
              "BertForSequenceClassification(\n",
              "  (bert): BertModel(\n",
              "    (embeddings): BertEmbeddings(\n",
              "      (word_embeddings): Embedding(30522, 768, padding_idx=0)\n",
              "      (position_embeddings): Embedding(512, 768)\n",
              "      (token_type_embeddings): Embedding(2, 768)\n",
              "      (LayerNorm): LayerNorm((768,), eps=1e-12, elementwise_affine=True)\n",
              "      (dropout): Dropout(p=0.1, inplace=False)\n",
              "    )\n",
              "    (encoder): BertEncoder(\n",
              "      (layer): ModuleList(\n",
              "        (0): BertLayer(\n",
              "          (attention): BertAttention(\n",
              "            (self): BertSelfAttention(\n",
              "              (query): Linear(in_features=768, out_features=768, bias=True)\n",
              "              (key): Linear(in_features=768, out_features=768, bias=True)\n",
              "              (value): Linear(in_features=768, out_features=768, bias=True)\n",
              "              (dropout): Dropout(p=0.1, inplace=False)\n",
              "            )\n",
              "            (output): BertSelfOutput(\n",
              "              (dense): Linear(in_features=768, out_features=768, bias=True)\n",
              "              (LayerNorm): LayerNorm((768,), eps=1e-12, elementwise_affine=True)\n",
              "              (dropout): Dropout(p=0.1, inplace=False)\n",
              "            )\n",
              "          )\n",
              "          (intermediate): BertIntermediate(\n",
              "            (dense): Linear(in_features=768, out_features=3072, bias=True)\n",
              "            (intermediate_act_fn): GELUActivation()\n",
              "          )\n",
              "          (output): BertOutput(\n",
              "            (dense): Linear(in_features=3072, out_features=768, bias=True)\n",
              "            (LayerNorm): LayerNorm((768,), eps=1e-12, elementwise_affine=True)\n",
              "            (dropout): Dropout(p=0.1, inplace=False)\n",
              "          )\n",
              "        )\n",
              "        (1): BertLayer(\n",
              "          (attention): BertAttention(\n",
              "            (self): BertSelfAttention(\n",
              "              (query): Linear(in_features=768, out_features=768, bias=True)\n",
              "              (key): Linear(in_features=768, out_features=768, bias=True)\n",
              "              (value): Linear(in_features=768, out_features=768, bias=True)\n",
              "              (dropout): Dropout(p=0.1, inplace=False)\n",
              "            )\n",
              "            (output): BertSelfOutput(\n",
              "              (dense): Linear(in_features=768, out_features=768, bias=True)\n",
              "              (LayerNorm): LayerNorm((768,), eps=1e-12, elementwise_affine=True)\n",
              "              (dropout): Dropout(p=0.1, inplace=False)\n",
              "            )\n",
              "          )\n",
              "          (intermediate): BertIntermediate(\n",
              "            (dense): Linear(in_features=768, out_features=3072, bias=True)\n",
              "            (intermediate_act_fn): GELUActivation()\n",
              "          )\n",
              "          (output): BertOutput(\n",
              "            (dense): Linear(in_features=3072, out_features=768, bias=True)\n",
              "            (LayerNorm): LayerNorm((768,), eps=1e-12, elementwise_affine=True)\n",
              "            (dropout): Dropout(p=0.1, inplace=False)\n",
              "          )\n",
              "        )\n",
              "        (2): BertLayer(\n",
              "          (attention): BertAttention(\n",
              "            (self): BertSelfAttention(\n",
              "              (query): Linear(in_features=768, out_features=768, bias=True)\n",
              "              (key): Linear(in_features=768, out_features=768, bias=True)\n",
              "              (value): Linear(in_features=768, out_features=768, bias=True)\n",
              "              (dropout): Dropout(p=0.1, inplace=False)\n",
              "            )\n",
              "            (output): BertSelfOutput(\n",
              "              (dense): Linear(in_features=768, out_features=768, bias=True)\n",
              "              (LayerNorm): LayerNorm((768,), eps=1e-12, elementwise_affine=True)\n",
              "              (dropout): Dropout(p=0.1, inplace=False)\n",
              "            )\n",
              "          )\n",
              "          (intermediate): BertIntermediate(\n",
              "            (dense): Linear(in_features=768, out_features=3072, bias=True)\n",
              "            (intermediate_act_fn): GELUActivation()\n",
              "          )\n",
              "          (output): BertOutput(\n",
              "            (dense): Linear(in_features=3072, out_features=768, bias=True)\n",
              "            (LayerNorm): LayerNorm((768,), eps=1e-12, elementwise_affine=True)\n",
              "            (dropout): Dropout(p=0.1, inplace=False)\n",
              "          )\n",
              "        )\n",
              "        (3): BertLayer(\n",
              "          (attention): BertAttention(\n",
              "            (self): BertSelfAttention(\n",
              "              (query): Linear(in_features=768, out_features=768, bias=True)\n",
              "              (key): Linear(in_features=768, out_features=768, bias=True)\n",
              "              (value): Linear(in_features=768, out_features=768, bias=True)\n",
              "              (dropout): Dropout(p=0.1, inplace=False)\n",
              "            )\n",
              "            (output): BertSelfOutput(\n",
              "              (dense): Linear(in_features=768, out_features=768, bias=True)\n",
              "              (LayerNorm): LayerNorm((768,), eps=1e-12, elementwise_affine=True)\n",
              "              (dropout): Dropout(p=0.1, inplace=False)\n",
              "            )\n",
              "          )\n",
              "          (intermediate): BertIntermediate(\n",
              "            (dense): Linear(in_features=768, out_features=3072, bias=True)\n",
              "            (intermediate_act_fn): GELUActivation()\n",
              "          )\n",
              "          (output): BertOutput(\n",
              "            (dense): Linear(in_features=3072, out_features=768, bias=True)\n",
              "            (LayerNorm): LayerNorm((768,), eps=1e-12, elementwise_affine=True)\n",
              "            (dropout): Dropout(p=0.1, inplace=False)\n",
              "          )\n",
              "        )\n",
              "        (4): BertLayer(\n",
              "          (attention): BertAttention(\n",
              "            (self): BertSelfAttention(\n",
              "              (query): Linear(in_features=768, out_features=768, bias=True)\n",
              "              (key): Linear(in_features=768, out_features=768, bias=True)\n",
              "              (value): Linear(in_features=768, out_features=768, bias=True)\n",
              "              (dropout): Dropout(p=0.1, inplace=False)\n",
              "            )\n",
              "            (output): BertSelfOutput(\n",
              "              (dense): Linear(in_features=768, out_features=768, bias=True)\n",
              "              (LayerNorm): LayerNorm((768,), eps=1e-12, elementwise_affine=True)\n",
              "              (dropout): Dropout(p=0.1, inplace=False)\n",
              "            )\n",
              "          )\n",
              "          (intermediate): BertIntermediate(\n",
              "            (dense): Linear(in_features=768, out_features=3072, bias=True)\n",
              "            (intermediate_act_fn): GELUActivation()\n",
              "          )\n",
              "          (output): BertOutput(\n",
              "            (dense): Linear(in_features=3072, out_features=768, bias=True)\n",
              "            (LayerNorm): LayerNorm((768,), eps=1e-12, elementwise_affine=True)\n",
              "            (dropout): Dropout(p=0.1, inplace=False)\n",
              "          )\n",
              "        )\n",
              "        (5): BertLayer(\n",
              "          (attention): BertAttention(\n",
              "            (self): BertSelfAttention(\n",
              "              (query): Linear(in_features=768, out_features=768, bias=True)\n",
              "              (key): Linear(in_features=768, out_features=768, bias=True)\n",
              "              (value): Linear(in_features=768, out_features=768, bias=True)\n",
              "              (dropout): Dropout(p=0.1, inplace=False)\n",
              "            )\n",
              "            (output): BertSelfOutput(\n",
              "              (dense): Linear(in_features=768, out_features=768, bias=True)\n",
              "              (LayerNorm): LayerNorm((768,), eps=1e-12, elementwise_affine=True)\n",
              "              (dropout): Dropout(p=0.1, inplace=False)\n",
              "            )\n",
              "          )\n",
              "          (intermediate): BertIntermediate(\n",
              "            (dense): Linear(in_features=768, out_features=3072, bias=True)\n",
              "            (intermediate_act_fn): GELUActivation()\n",
              "          )\n",
              "          (output): BertOutput(\n",
              "            (dense): Linear(in_features=3072, out_features=768, bias=True)\n",
              "            (LayerNorm): LayerNorm((768,), eps=1e-12, elementwise_affine=True)\n",
              "            (dropout): Dropout(p=0.1, inplace=False)\n",
              "          )\n",
              "        )\n",
              "        (6): BertLayer(\n",
              "          (attention): BertAttention(\n",
              "            (self): BertSelfAttention(\n",
              "              (query): Linear(in_features=768, out_features=768, bias=True)\n",
              "              (key): Linear(in_features=768, out_features=768, bias=True)\n",
              "              (value): Linear(in_features=768, out_features=768, bias=True)\n",
              "              (dropout): Dropout(p=0.1, inplace=False)\n",
              "            )\n",
              "            (output): BertSelfOutput(\n",
              "              (dense): Linear(in_features=768, out_features=768, bias=True)\n",
              "              (LayerNorm): LayerNorm((768,), eps=1e-12, elementwise_affine=True)\n",
              "              (dropout): Dropout(p=0.1, inplace=False)\n",
              "            )\n",
              "          )\n",
              "          (intermediate): BertIntermediate(\n",
              "            (dense): Linear(in_features=768, out_features=3072, bias=True)\n",
              "            (intermediate_act_fn): GELUActivation()\n",
              "          )\n",
              "          (output): BertOutput(\n",
              "            (dense): Linear(in_features=3072, out_features=768, bias=True)\n",
              "            (LayerNorm): LayerNorm((768,), eps=1e-12, elementwise_affine=True)\n",
              "            (dropout): Dropout(p=0.1, inplace=False)\n",
              "          )\n",
              "        )\n",
              "        (7): BertLayer(\n",
              "          (attention): BertAttention(\n",
              "            (self): BertSelfAttention(\n",
              "              (query): Linear(in_features=768, out_features=768, bias=True)\n",
              "              (key): Linear(in_features=768, out_features=768, bias=True)\n",
              "              (value): Linear(in_features=768, out_features=768, bias=True)\n",
              "              (dropout): Dropout(p=0.1, inplace=False)\n",
              "            )\n",
              "            (output): BertSelfOutput(\n",
              "              (dense): Linear(in_features=768, out_features=768, bias=True)\n",
              "              (LayerNorm): LayerNorm((768,), eps=1e-12, elementwise_affine=True)\n",
              "              (dropout): Dropout(p=0.1, inplace=False)\n",
              "            )\n",
              "          )\n",
              "          (intermediate): BertIntermediate(\n",
              "            (dense): Linear(in_features=768, out_features=3072, bias=True)\n",
              "            (intermediate_act_fn): GELUActivation()\n",
              "          )\n",
              "          (output): BertOutput(\n",
              "            (dense): Linear(in_features=3072, out_features=768, bias=True)\n",
              "            (LayerNorm): LayerNorm((768,), eps=1e-12, elementwise_affine=True)\n",
              "            (dropout): Dropout(p=0.1, inplace=False)\n",
              "          )\n",
              "        )\n",
              "        (8): BertLayer(\n",
              "          (attention): BertAttention(\n",
              "            (self): BertSelfAttention(\n",
              "              (query): Linear(in_features=768, out_features=768, bias=True)\n",
              "              (key): Linear(in_features=768, out_features=768, bias=True)\n",
              "              (value): Linear(in_features=768, out_features=768, bias=True)\n",
              "              (dropout): Dropout(p=0.1, inplace=False)\n",
              "            )\n",
              "            (output): BertSelfOutput(\n",
              "              (dense): Linear(in_features=768, out_features=768, bias=True)\n",
              "              (LayerNorm): LayerNorm((768,), eps=1e-12, elementwise_affine=True)\n",
              "              (dropout): Dropout(p=0.1, inplace=False)\n",
              "            )\n",
              "          )\n",
              "          (intermediate): BertIntermediate(\n",
              "            (dense): Linear(in_features=768, out_features=3072, bias=True)\n",
              "            (intermediate_act_fn): GELUActivation()\n",
              "          )\n",
              "          (output): BertOutput(\n",
              "            (dense): Linear(in_features=3072, out_features=768, bias=True)\n",
              "            (LayerNorm): LayerNorm((768,), eps=1e-12, elementwise_affine=True)\n",
              "            (dropout): Dropout(p=0.1, inplace=False)\n",
              "          )\n",
              "        )\n",
              "        (9): BertLayer(\n",
              "          (attention): BertAttention(\n",
              "            (self): BertSelfAttention(\n",
              "              (query): Linear(in_features=768, out_features=768, bias=True)\n",
              "              (key): Linear(in_features=768, out_features=768, bias=True)\n",
              "              (value): Linear(in_features=768, out_features=768, bias=True)\n",
              "              (dropout): Dropout(p=0.1, inplace=False)\n",
              "            )\n",
              "            (output): BertSelfOutput(\n",
              "              (dense): Linear(in_features=768, out_features=768, bias=True)\n",
              "              (LayerNorm): LayerNorm((768,), eps=1e-12, elementwise_affine=True)\n",
              "              (dropout): Dropout(p=0.1, inplace=False)\n",
              "            )\n",
              "          )\n",
              "          (intermediate): BertIntermediate(\n",
              "            (dense): Linear(in_features=768, out_features=3072, bias=True)\n",
              "            (intermediate_act_fn): GELUActivation()\n",
              "          )\n",
              "          (output): BertOutput(\n",
              "            (dense): Linear(in_features=3072, out_features=768, bias=True)\n",
              "            (LayerNorm): LayerNorm((768,), eps=1e-12, elementwise_affine=True)\n",
              "            (dropout): Dropout(p=0.1, inplace=False)\n",
              "          )\n",
              "        )\n",
              "        (10): BertLayer(\n",
              "          (attention): BertAttention(\n",
              "            (self): BertSelfAttention(\n",
              "              (query): Linear(in_features=768, out_features=768, bias=True)\n",
              "              (key): Linear(in_features=768, out_features=768, bias=True)\n",
              "              (value): Linear(in_features=768, out_features=768, bias=True)\n",
              "              (dropout): Dropout(p=0.1, inplace=False)\n",
              "            )\n",
              "            (output): BertSelfOutput(\n",
              "              (dense): Linear(in_features=768, out_features=768, bias=True)\n",
              "              (LayerNorm): LayerNorm((768,), eps=1e-12, elementwise_affine=True)\n",
              "              (dropout): Dropout(p=0.1, inplace=False)\n",
              "            )\n",
              "          )\n",
              "          (intermediate): BertIntermediate(\n",
              "            (dense): Linear(in_features=768, out_features=3072, bias=True)\n",
              "            (intermediate_act_fn): GELUActivation()\n",
              "          )\n",
              "          (output): BertOutput(\n",
              "            (dense): Linear(in_features=3072, out_features=768, bias=True)\n",
              "            (LayerNorm): LayerNorm((768,), eps=1e-12, elementwise_affine=True)\n",
              "            (dropout): Dropout(p=0.1, inplace=False)\n",
              "          )\n",
              "        )\n",
              "        (11): BertLayer(\n",
              "          (attention): BertAttention(\n",
              "            (self): BertSelfAttention(\n",
              "              (query): Linear(in_features=768, out_features=768, bias=True)\n",
              "              (key): Linear(in_features=768, out_features=768, bias=True)\n",
              "              (value): Linear(in_features=768, out_features=768, bias=True)\n",
              "              (dropout): Dropout(p=0.1, inplace=False)\n",
              "            )\n",
              "            (output): BertSelfOutput(\n",
              "              (dense): Linear(in_features=768, out_features=768, bias=True)\n",
              "              (LayerNorm): LayerNorm((768,), eps=1e-12, elementwise_affine=True)\n",
              "              (dropout): Dropout(p=0.1, inplace=False)\n",
              "            )\n",
              "          )\n",
              "          (intermediate): BertIntermediate(\n",
              "            (dense): Linear(in_features=768, out_features=3072, bias=True)\n",
              "            (intermediate_act_fn): GELUActivation()\n",
              "          )\n",
              "          (output): BertOutput(\n",
              "            (dense): Linear(in_features=3072, out_features=768, bias=True)\n",
              "            (LayerNorm): LayerNorm((768,), eps=1e-12, elementwise_affine=True)\n",
              "            (dropout): Dropout(p=0.1, inplace=False)\n",
              "          )\n",
              "        )\n",
              "      )\n",
              "    )\n",
              "    (pooler): BertPooler(\n",
              "      (dense): Linear(in_features=768, out_features=768, bias=True)\n",
              "      (activation): Tanh()\n",
              "    )\n",
              "  )\n",
              "  (dropout): Dropout(p=0.1, inplace=False)\n",
              "  (classifier): Linear(in_features=768, out_features=15, bias=True)\n",
              ")"
            ]
          },
          "execution_count": 65,
          "metadata": {},
          "output_type": "execute_result"
        }
      ],
      "source": [
        "from transformers import BertForSequenceClassification, AdamW, BertConfig\n",
        "\n",
        "model = BertForSequenceClassification.from_pretrained(\n",
        "    \"bert-base-uncased\", # Use the 12-layer English BERT model, with an uncased vocab.\n",
        "    num_labels = 15, # The number of output labels.   \n",
        "    output_attentions = False, # Whether the model returns attentions weights.\n",
        "    output_hidden_states = False, # Whether the model returns all hidden-states.\n",
        ")\n",
        "\n",
        "# Tell pytorch to run this model on the GPU.\n",
        "model.cuda()\n"
      ]
    },
    {
      "cell_type": "markdown",
      "metadata": {
        "id": "i3lLdoW_le3M"
      },
      "source": [
        "# ACTION REQUIRED #\n",
        "\n",
        "Define your fine-tuning hyperparameters in the cell below (we have randomly picked some values to start with). We want you to experiment with different configurations to find the one that works best (i.e., highest accuracy) on your validation set. Feel free to also change pretrained models to others available in the HuggingFace library (you'll have to modify the cell above to do this). You might find papers on BERT fine-tuning stability (e.g., [Mosbach et al., ICLR 2021](https://openreview.net/pdf?id=nzpLWnVAyah)) to be of interest."
      ]
    },
    {
      "cell_type": "code",
      "execution_count": 66,
      "metadata": {
        "id": "Dd2JdC6IletV"
      },
      "outputs": [],
      "source": [
        "batch_size = 32\n",
        "learning_rate = 2e-5\n",
        "optimizer = AdamW(model.parameters(), lr=learning_rate) #with default values of learning rate and epsilon value\n",
        "epochs = 50"
      ]
    },
    {
      "cell_type": "markdown",
      "metadata": {
        "id": "Pd4fwn_el1ge"
      },
      "source": [
        "# Fine-tune your model\n",
        "Here we provide code for fine-tuning your model, monitoring the loss, and checking your validation accuracy. Rerun both of the below cells when you change your hyperparameters above."
      ]
    },
    {
      "cell_type": "code",
      "execution_count": 67,
      "metadata": {
        "id": "O_Mzr-kd5RaY"
      },
      "outputs": [],
      "source": [
        "# function to get validation accuracy\n",
        "def get_validation_performance(val_set):\n",
        "    # Put the model in evaluation mode\n",
        "    model.eval()\n",
        "\n",
        "    # Tracking variables \n",
        "    total_eval_accuracy = 0\n",
        "    total_eval_loss = 0\n",
        "\n",
        "    num_batches = int(len(val_set)/batch_size) + 1\n",
        "\n",
        "    total_correct = 0\n",
        "\n",
        "    for i in range(num_batches):\n",
        "\n",
        "      end_index = min(batch_size * (i+1), len(val_set))\n",
        "\n",
        "      batch = val_set[i*batch_size:end_index]\n",
        "      \n",
        "      if len(batch) == 0: continue\n",
        "\n",
        "      input_id_tensors = torch.stack([data[0] for data in batch])\n",
        "      input_mask_tensors = torch.stack([data[1] for data in batch])\n",
        "      label_tensors = torch.stack([data[2] for data in batch])\n",
        "      \n",
        "      # Move tensors to the GPU\n",
        "      b_input_ids = input_id_tensors.to(device)\n",
        "      b_input_mask = input_mask_tensors.to(device)\n",
        "      b_labels = label_tensors.to(device)\n",
        "        \n",
        "      # Tell pytorch not to bother with constructing the compute graph during\n",
        "      # the forward pass, since this is only needed for backprop (training).\n",
        "      with torch.no_grad():        \n",
        "\n",
        "        # Forward pass, calculate logit predictions.\n",
        "        outputs = model(b_input_ids, \n",
        "                                token_type_ids=None, \n",
        "                                attention_mask=b_input_mask,\n",
        "                                labels=b_labels)\n",
        "        loss = outputs.loss\n",
        "        logits = outputs.logits\n",
        "            \n",
        "        # Accumulate the validation loss.\n",
        "        total_eval_loss += loss.item()\n",
        "        \n",
        "        # Move logits and labels to CPU\n",
        "        logits = (logits).detach().cpu().numpy()\n",
        "        label_ids = b_labels.to('cpu').numpy()\n",
        "\n",
        "\n",
        "        # Calculate the number of correctly labeled examples in batch\n",
        "        pred_flat = np.argmax(logits, axis=1).flatten()\n",
        "        labels_flat = np.argmax(label_ids, axis=1).flatten()\n",
        "\n",
        "        num_correct = np.sum(pred_flat == labels_flat)\n",
        "        total_correct += num_correct\n",
        "    \n",
        "            \n",
        "    # Report the final accuracy for this validation run.\n",
        "    print(\"Num of correct predictions =\", total_correct)\n",
        "    avg_val_accuracy = total_correct / len(val_set)\n",
        "    return avg_val_accuracy\n",
        "\n"
      ]
    },
    {
      "cell_type": "code",
      "execution_count": 68,
      "metadata": {
        "colab": {
          "base_uri": "https://localhost:8080/"
        },
        "id": "HTf_ipbjWNoV",
        "outputId": "57c5b607-72c2-433f-804a-32427372ab61"
      },
      "outputs": [
        {
          "name": "stdout",
          "output_type": "stream",
          "text": [
            "\n",
            "======== Epoch 1 / 50 ========\n",
            "Training...\n",
            "Total loss: 2.7849502879080115\n",
            "Num of correct predictions = 3\n",
            "Validation accuracy: 0.2\n",
            "\n",
            "======== Epoch 2 / 50 ========\n",
            "Training...\n",
            "Total loss: 2.5568401165858328\n",
            "Num of correct predictions = 2\n",
            "Validation accuracy: 0.13333333333333333\n",
            "\n",
            "======== Epoch 3 / 50 ========\n",
            "Training...\n",
            "Total loss: 2.437467830245037\n",
            "Num of correct predictions = 0\n",
            "Validation accuracy: 0.0\n",
            "\n",
            "======== Epoch 4 / 50 ========\n",
            "Training...\n",
            "Total loss: 2.2728034007077236\n",
            "Num of correct predictions = 0\n",
            "Validation accuracy: 0.0\n",
            "\n",
            "======== Epoch 5 / 50 ========\n",
            "Training...\n",
            "Total loss: 2.1091169855971303\n",
            "Num of correct predictions = 1\n",
            "Validation accuracy: 0.06666666666666667\n",
            "\n",
            "======== Epoch 6 / 50 ========\n",
            "Training...\n",
            "Total loss: 1.9450506554017515\n",
            "Num of correct predictions = 0\n",
            "Validation accuracy: 0.0\n",
            "\n",
            "======== Epoch 7 / 50 ========\n",
            "Training...\n",
            "Total loss: 1.809488083758495\n",
            "Num of correct predictions = 0\n",
            "Validation accuracy: 0.0\n",
            "\n",
            "======== Epoch 8 / 50 ========\n",
            "Training...\n",
            "Total loss: 1.681529566138569\n",
            "Num of correct predictions = 0\n",
            "Validation accuracy: 0.0\n",
            "\n",
            "======== Epoch 9 / 50 ========\n",
            "Training...\n",
            "Total loss: 1.5699239372948393\n",
            "Num of correct predictions = 0\n",
            "Validation accuracy: 0.0\n",
            "\n",
            "======== Epoch 10 / 50 ========\n",
            "Training...\n",
            "Total loss: 1.475114851931317\n",
            "Num of correct predictions = 0\n",
            "Validation accuracy: 0.0\n",
            "\n",
            "======== Epoch 11 / 50 ========\n",
            "Training...\n",
            "Total loss: 1.4036172187576692\n",
            "Num of correct predictions = 0\n",
            "Validation accuracy: 0.0\n",
            "\n",
            "======== Epoch 12 / 50 ========\n",
            "Training...\n",
            "Total loss: 1.3294456144794822\n",
            "Num of correct predictions = 0\n",
            "Validation accuracy: 0.0\n",
            "\n",
            "======== Epoch 13 / 50 ========\n",
            "Training...\n",
            "Total loss: 1.277988643768347\n",
            "Num of correct predictions = 0\n",
            "Validation accuracy: 0.0\n",
            "\n",
            "======== Epoch 14 / 50 ========\n",
            "Training...\n",
            "Total loss: 1.2260478344849415\n",
            "Num of correct predictions = 0\n",
            "Validation accuracy: 0.0\n",
            "\n",
            "======== Epoch 15 / 50 ========\n",
            "Training...\n",
            "Total loss: 1.1857749563072704\n",
            "Num of correct predictions = 0\n",
            "Validation accuracy: 0.0\n",
            "\n",
            "======== Epoch 16 / 50 ========\n",
            "Training...\n",
            "Total loss: 1.1502679085100276\n",
            "Num of correct predictions = 0\n",
            "Validation accuracy: 0.0\n",
            "\n",
            "======== Epoch 17 / 50 ========\n",
            "Training...\n",
            "Total loss: 1.1124605868787816\n",
            "Num of correct predictions = 0\n",
            "Validation accuracy: 0.0\n",
            "\n",
            "======== Epoch 18 / 50 ========\n",
            "Training...\n",
            "Total loss: 1.088253653396128\n",
            "Num of correct predictions = 0\n",
            "Validation accuracy: 0.0\n",
            "\n",
            "======== Epoch 19 / 50 ========\n",
            "Training...\n",
            "Total loss: 1.0732286151602035\n",
            "Num of correct predictions = 0\n",
            "Validation accuracy: 0.0\n",
            "\n",
            "======== Epoch 20 / 50 ========\n",
            "Training...\n",
            "Total loss: 1.0506044102573975\n",
            "Num of correct predictions = 0\n",
            "Validation accuracy: 0.0\n",
            "\n",
            "======== Epoch 21 / 50 ========\n",
            "Training...\n",
            "Total loss: 1.0310697538933407\n",
            "Num of correct predictions = 0\n",
            "Validation accuracy: 0.0\n",
            "\n",
            "======== Epoch 22 / 50 ========\n",
            "Training...\n",
            "Total loss: 1.013888402376324\n",
            "Num of correct predictions = 0\n",
            "Validation accuracy: 0.0\n",
            "\n",
            "======== Epoch 23 / 50 ========\n",
            "Training...\n",
            "Total loss: 1.0055451366481267\n",
            "Num of correct predictions = 0\n",
            "Validation accuracy: 0.0\n",
            "\n",
            "======== Epoch 24 / 50 ========\n",
            "Training...\n",
            "Total loss: 0.9965951451307371\n",
            "Num of correct predictions = 0\n",
            "Validation accuracy: 0.0\n",
            "\n",
            "======== Epoch 25 / 50 ========\n",
            "Training...\n",
            "Total loss: 0.9865059648795674\n",
            "Num of correct predictions = 0\n",
            "Validation accuracy: 0.0\n",
            "\n",
            "======== Epoch 26 / 50 ========\n",
            "Training...\n",
            "Total loss: 0.974217518300025\n",
            "Num of correct predictions = 0\n",
            "Validation accuracy: 0.0\n",
            "\n",
            "======== Epoch 27 / 50 ========\n",
            "Training...\n",
            "Total loss: 0.958328631070132\n",
            "Num of correct predictions = 2\n",
            "Validation accuracy: 0.13333333333333333\n",
            "\n",
            "======== Epoch 28 / 50 ========\n",
            "Training...\n",
            "Total loss: 0.9512664866840673\n",
            "Num of correct predictions = 1\n",
            "Validation accuracy: 0.06666666666666667\n",
            "\n",
            "======== Epoch 29 / 50 ========\n",
            "Training...\n",
            "Total loss: 0.9443434307299968\n",
            "Num of correct predictions = 4\n",
            "Validation accuracy: 0.26666666666666666\n",
            "\n",
            "======== Epoch 30 / 50 ========\n",
            "Training...\n",
            "Total loss: 0.9317538173946862\n",
            "Num of correct predictions = 2\n",
            "Validation accuracy: 0.13333333333333333\n",
            "\n",
            "======== Epoch 31 / 50 ========\n",
            "Training...\n",
            "Total loss: 0.9181169671498032\n",
            "Num of correct predictions = 4\n",
            "Validation accuracy: 0.26666666666666666\n",
            "\n",
            "======== Epoch 32 / 50 ========\n",
            "Training...\n",
            "Total loss: 0.9118496563906472\n",
            "Num of correct predictions = 3\n",
            "Validation accuracy: 0.2\n",
            "\n",
            "======== Epoch 33 / 50 ========\n",
            "Training...\n",
            "Total loss: 0.903216138590748\n",
            "Num of correct predictions = 3\n",
            "Validation accuracy: 0.2\n",
            "\n",
            "======== Epoch 34 / 50 ========\n",
            "Training...\n",
            "Total loss: 0.890791394124325\n",
            "Num of correct predictions = 4\n",
            "Validation accuracy: 0.26666666666666666\n",
            "\n",
            "======== Epoch 35 / 50 ========\n",
            "Training...\n",
            "Total loss: 0.8775589869564607\n",
            "Num of correct predictions = 5\n",
            "Validation accuracy: 0.3333333333333333\n",
            "\n",
            "======== Epoch 36 / 50 ========\n",
            "Training...\n",
            "Total loss: 0.862288167855392\n",
            "Num of correct predictions = 5\n",
            "Validation accuracy: 0.3333333333333333\n",
            "\n",
            "======== Epoch 37 / 50 ========\n",
            "Training...\n",
            "Total loss: 0.8486209175161397\n",
            "Num of correct predictions = 6\n",
            "Validation accuracy: 0.4\n",
            "\n",
            "======== Epoch 38 / 50 ========\n",
            "Training...\n",
            "Total loss: 0.8412148696887825\n",
            "Num of correct predictions = 7\n",
            "Validation accuracy: 0.4666666666666667\n",
            "\n",
            "======== Epoch 39 / 50 ========\n",
            "Training...\n",
            "Total loss: 0.82147106253542\n",
            "Num of correct predictions = 7\n",
            "Validation accuracy: 0.4666666666666667\n",
            "\n",
            "======== Epoch 40 / 50 ========\n",
            "Training...\n",
            "Total loss: 0.8099762490847044\n",
            "Num of correct predictions = 8\n",
            "Validation accuracy: 0.5333333333333333\n",
            "\n",
            "======== Epoch 41 / 50 ========\n",
            "Training...\n",
            "Total loss: 0.7997769380816155\n",
            "Num of correct predictions = 10\n",
            "Validation accuracy: 0.6666666666666666\n",
            "\n",
            "======== Epoch 42 / 50 ========\n",
            "Training...\n",
            "Total loss: 0.779908236149802\n",
            "Num of correct predictions = 9\n",
            "Validation accuracy: 0.6\n",
            "\n",
            "======== Epoch 43 / 50 ========\n",
            "Training...\n",
            "Total loss: 0.7688798831310124\n",
            "Num of correct predictions = 10\n",
            "Validation accuracy: 0.6666666666666666\n",
            "\n",
            "======== Epoch 44 / 50 ========\n",
            "Training...\n",
            "Total loss: 0.752950140228495\n",
            "Num of correct predictions = 11\n",
            "Validation accuracy: 0.7333333333333333\n",
            "\n",
            "======== Epoch 45 / 50 ========\n",
            "Training...\n",
            "Total loss: 0.7372486758666734\n",
            "Num of correct predictions = 14\n",
            "Validation accuracy: 0.9333333333333333\n",
            "\n",
            "======== Epoch 46 / 50 ========\n",
            "Training...\n",
            "Total loss: 0.7281382742130922\n",
            "Num of correct predictions = 13\n",
            "Validation accuracy: 0.8666666666666667\n",
            "\n",
            "======== Epoch 47 / 50 ========\n",
            "Training...\n",
            "Total loss: 0.7108559310281028\n",
            "Num of correct predictions = 13\n",
            "Validation accuracy: 0.8666666666666667\n",
            "\n",
            "======== Epoch 48 / 50 ========\n",
            "Training...\n",
            "Total loss: 0.7030321814870049\n",
            "Num of correct predictions = 13\n",
            "Validation accuracy: 0.8666666666666667\n",
            "\n",
            "======== Epoch 49 / 50 ========\n",
            "Training...\n",
            "Total loss: 0.6895311288897775\n",
            "Num of correct predictions = 14\n",
            "Validation accuracy: 0.9333333333333333\n",
            "\n",
            "======== Epoch 50 / 50 ========\n",
            "Training...\n",
            "Total loss: 0.6677234719119345\n",
            "Num of correct predictions = 14\n",
            "Validation accuracy: 0.9333333333333333\n",
            "\n",
            "Training complete!\n"
          ]
        }
      ],
      "source": [
        "import random\n",
        "\n",
        "# training loop\n",
        "\n",
        "# For each epoch...\n",
        "for epoch_i in range(0, epochs):\n",
        "    # Perform one full pass over the training set.\n",
        "\n",
        "    print(\"\")\n",
        "    print('======== Epoch {:} / {:} ========'.format(epoch_i + 1, epochs))\n",
        "    print('Training...')\n",
        "\n",
        "    # Reset the total loss for this epoch.\n",
        "    total_train_loss = 0\n",
        "\n",
        "    # Put the model into training mode.\n",
        "    model.train()\n",
        "\n",
        "    # For each batch of training data...\n",
        "    num_batches = int(len(train_set)/batch_size) + 1\n",
        "\n",
        "    for i in range(num_batches):\n",
        "      end_index = min(batch_size * (i+1), len(train_set))\n",
        "\n",
        "      batch = train_set[i*batch_size:end_index]\n",
        "\n",
        "      if len(batch) == 0: continue\n",
        "\n",
        "      input_id_tensors = torch.stack([data[0] for data in batch])\n",
        "      input_mask_tensors = torch.stack([data[1] for data in batch])\n",
        "      label_tensors = torch.stack([data[2] for data in batch])\n",
        "\n",
        "      # Move tensors to the GPU\n",
        "      b_input_ids = input_id_tensors.to(device)\n",
        "      b_input_mask = input_mask_tensors.to(device)\n",
        "      b_labels = label_tensors.to(device) \n",
        "\n",
        "      # Perform a forward pass (evaluate the model on this training batch).\n",
        "      outputs = model(b_input_ids, token_type_ids=None, attention_mask=b_input_mask, labels=b_labels)\n",
        "      loss = outputs.loss\n",
        "      logits = outputs.logits\n",
        "\n",
        "      total_train_loss += loss.item()\n",
        "\n",
        "      # Clear the previously calculated gradient\n",
        "      model.zero_grad()     \n",
        "\n",
        "      # Perform a backward pass to calculate the gradients.\n",
        "      loss.backward()\n",
        "\n",
        "      # Update parameters and take a step using the computed gradient.\n",
        "      optimizer.step()\n",
        "        \n",
        "    # ========================================\n",
        "    #               Validation\n",
        "    # ========================================\n",
        "    # After the completion of each training epoch, measure our performance on\n",
        "    # our validation set. Implement this function in the cell above.\n",
        "    print(f\"Total loss: {total_train_loss}\")\n",
        "    val_acc = get_validation_performance(val_set)\n",
        "    print(f\"Validation accuracy: {val_acc}\")\n",
        "    \n",
        "print(\"\")\n",
        "print(\"Training complete!\")\n"
      ]
    },
    {
      "cell_type": "markdown",
      "metadata": {
        "id": "J9DpRJE5mHkO"
      },
      "source": [
        "# Evaluate your model on the test set\n",
        "After you're satisfied with your hyperparameters (i.e., you're unable to achieve higher validation accuracy by modifying them further), it's time to evaluate your model on the test set! Run the below cell to compute test set accuracy.\n"
      ]
    },
    {
      "cell_type": "code",
      "execution_count": 69,
      "metadata": {
        "colab": {
          "base_uri": "https://localhost:8080/"
        },
        "id": "msvZ78ii3cZZ",
        "outputId": "af432316-8461-42b0-dbbc-b6c62014cbde"
      },
      "outputs": [
        {
          "name": "stdout",
          "output_type": "stream",
          "text": [
            "Num of correct predictions = 12\n"
          ]
        },
        {
          "data": {
            "text/plain": [
              "0.8"
            ]
          },
          "execution_count": 69,
          "metadata": {},
          "output_type": "execute_result"
        }
      ],
      "source": [
        "get_validation_performance(test_set)"
      ]
    },
    {
      "cell_type": "markdown",
      "metadata": {
        "id": "NBbdMwt79fIs"
      },
      "source": [
        "## Question 2.2:\n",
        "Finally, perform an *error analysis* on your model. This is good practice for your final project. Write some code in the below code cell to print out the text of up to five test set examples that your model gets **wrong**. If your model gets more than five test examples wrong, randomly choose five of them to analyze. If your model gets fewer than five examples wrong, please design five test examples that fool your model (i.e., *adversarial examples*). Then, in the following text cell, perform a qualitative analysis of these examples. See if you can figure out any reasons for errors that you observe, or if you have any informed guesses (e.g., common linguistic properties of these particular examples). Does this analysis suggest any possible future steps to improve your classifier?"
      ]
    },
    {
      "cell_type": "code",
      "execution_count": 60,
      "metadata": {
        "id": "fdViI86lSijZ"
      },
      "outputs": [],
      "source": [
        "batch_size = 64\n",
        "learning_rate = 2e-5\n",
        "optimizer = AdamW(model.parameters(), lr=learning_rate) #with default values of learning rate and epsilon value\n",
        "epochs = 50"
      ]
    },
    {
      "cell_type": "code",
      "execution_count": 61,
      "metadata": {
        "id": "cth2WfaRQGPf"
      },
      "outputs": [],
      "source": [
        "# Move tensors to the GPU\n",
        "b_input_ids = input_id_tensors.to(device)\n",
        "b_input_mask = input_mask_tensors.to(device)\n",
        "b_labels = label_tensors.to(device)\n",
        "        \n",
        "# Tell pytorch not to bother with constructing the compute graph during\n",
        "# the forward pass, since this is only needed for backprop (training).\n",
        "with torch.no_grad():\n",
        "  # Forward pass, calculate logit predictions.\n",
        "  outputs = model(b_input_ids, token_type_ids=None, attention_mask=b_input_mask, labels=b_labels)\n",
        "  loss = outputs.loss\n",
        "  logits = outputs.logits\n",
        "        \n",
        "  # Move logits and labels to CPU\n",
        "  logits = (logits).detach().cpu().numpy()\n",
        "  label_ids = b_labels.to('cpu').numpy()\n",
        "\n",
        "\n",
        "  # Calculate the number of correctly labeled examples in batch\n",
        "  pred_flat = np.argmax(logits, axis=1).flatten()\n",
        "  labels_flat = np.argmax(label_ids, axis=1).flatten()\n"
      ]
    },
    {
      "cell_type": "code",
      "execution_count": 62,
      "metadata": {
        "colab": {
          "base_uri": "https://localhost:8080/"
        },
        "id": "Yuc1H6u8Tlzd",
        "outputId": "11fc3998-edde-4678-cccd-2b5bd9f5f12f"
      },
      "outputs": [
        {
          "name": "stdout",
          "output_type": "stream",
          "text": [
            "Printing out a random sample of 5 incorrect sentences.\n",
            "The Trump administration's efforts to restrict immigration from certain countries have been criticized for being discriminatory and damaging to the country's reputation.\n",
            "To protect the security of the nation, policies must be enacted that ensure the safety of citizens and prevent individuals who may pose a threat from entering the country.\n",
            "The intersection of race and immigration is a complex and often overlooked issue, with people of colour facing additional barriers and challenges in the immigration process.\n",
            "Discrimination against immigrants and LGBTQ individuals can have profound impacts on mental health, leading to issues like depression, anxiety, and PTSD.\n",
            "The benefits of immigration are numerous and include increased economic growth, higher levels of entrepreneurship, and greater cultural diversity.\n"
          ]
        }
      ],
      "source": [
        "import random\n",
        "wrong_indices = [i for i in range(len(test_text)) if pred_flat[i] != labels_flat[i]]\n",
        "num_wrong = len(wrong_indices)\n",
        "if num_wrong > 0:\n",
        "    if num_wrong > 5:\n",
        "        print(\"Printing out a random sample of 5 incorrect sentences.\")\n",
        "        wrong_indices = random.sample(wrong_indices, 5)\n",
        "    for i in wrong_indices:\n",
        "        print(test_text[i])\n"
      ]
    }
  ],
  "metadata": {
    "accelerator": "GPU",
    "colab": {
      "collapsed_sections": [
        "SgNZTjrhcHa0"
      ],
      "provenance": []
    },
    "gpuClass": "standard",
    "kernelspec": {
      "display_name": "Python 3 (ipykernel)",
      "language": "python",
      "name": "python3"
    },
    "language_info": {
      "codemirror_mode": {
        "name": "ipython",
        "version": 3
      },
      "file_extension": ".py",
      "mimetype": "text/x-python",
      "name": "python",
      "nbconvert_exporter": "python",
      "pygments_lexer": "ipython3",
      "version": "3.9.13"
    }
  },
  "nbformat": 4,
  "nbformat_minor": 0
}
